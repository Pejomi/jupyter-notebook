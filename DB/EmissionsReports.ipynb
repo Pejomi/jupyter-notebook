{
 "cells": [
  {
   "cell_type": "code",
   "execution_count": 1,
   "id": "67381267-aaca-4918-9c4f-80df1570f289",
   "metadata": {},
   "outputs": [],
   "source": [
    "import pandas as pd"
   ]
  },
  {
   "cell_type": "code",
   "execution_count": 2,
   "id": "070c8e47-5017-491d-8f19-0bd851e420df",
   "metadata": {},
   "outputs": [],
   "source": [
    "def check_null(df):\n",
    "    # Check for null values in each column\n",
    "    null_counts = df.isnull().sum()\n",
    "\n",
    "    # Print columns with null values\n",
    "    print(\"Columns with null values:\")\n",
    "    print(null_counts[null_counts > 0])"
   ]
  },
  {
   "cell_type": "markdown",
   "id": "7ad97a49-ae7c-410f-b0c9-289766d82863",
   "metadata": {},
   "source": [
    "# 2016"
   ]
  },
  {
   "cell_type": "code",
   "execution_count": 16,
   "id": "004802f6-186a-4e75-87c4-c4d41f017b82",
   "metadata": {},
   "outputs": [
    {
     "data": {
      "text/html": [
       "<div>\n",
       "<style scoped>\n",
       "    .dataframe tbody tr th:only-of-type {\n",
       "        vertical-align: middle;\n",
       "    }\n",
       "\n",
       "    .dataframe tbody tr th {\n",
       "        vertical-align: top;\n",
       "    }\n",
       "\n",
       "    .dataframe thead th {\n",
       "        text-align: right;\n",
       "    }\n",
       "</style>\n",
       "<table border=\"1\" class=\"dataframe\">\n",
       "  <thead>\n",
       "    <tr style=\"text-align: right;\">\n",
       "      <th></th>\n",
       "      <th>ACCOUNT NUMBER</th>\n",
       "      <th>CITY NAME</th>\n",
       "      <th>COUNTRY</th>\n",
       "      <th>CITY SHORT NAME</th>\n",
       "      <th>C40</th>\n",
       "      <th>REPORTING YEAR</th>\n",
       "      <th>MEASUREMENT YEAR</th>\n",
       "      <th>BOUNDARY</th>\n",
       "      <th>PRIMARY METHODOLOGY</th>\n",
       "      <th>METHODOLOGY DETAILS</th>\n",
       "      <th>...</th>\n",
       "      <th>CURRENT POPULATION</th>\n",
       "      <th>CITY GDP</th>\n",
       "      <th>GDP CURRENCY</th>\n",
       "      <th>YEAR OF GDP</th>\n",
       "      <th>GDP SOURCE</th>\n",
       "      <th>AVERAGE ANNUAL TEMPERATURE (IN CELSIUS)​</th>\n",
       "      <th>​LAND AREA (IN SQUARE KM)</th>\n",
       "      <th>AVERAGE ALTITUDE (M)</th>\n",
       "      <th>CITY LOCATION</th>\n",
       "      <th>COUNTRY LOCATION</th>\n",
       "    </tr>\n",
       "  </thead>\n",
       "  <tbody>\n",
       "    <tr>\n",
       "      <th>0</th>\n",
       "      <td>35894</td>\n",
       "      <td>Ville de Montreal</td>\n",
       "      <td>Canada</td>\n",
       "      <td>Montreal</td>\n",
       "      <td>NaN</td>\n",
       "      <td>2016</td>\n",
       "      <td>12/31/2009 12:00:00 AM</td>\n",
       "      <td>Other: The regional entity that constitutes th...</td>\n",
       "      <td>2006 IPCC Guidelines for National Greenhouse G...</td>\n",
       "      <td>2006 IPCC Guidelines for National Greenhouse G...</td>\n",
       "      <td>...</td>\n",
       "      <td>1886481.0</td>\n",
       "      <td>1.201180e+11</td>\n",
       "      <td>CAD     Canadian Dollar</td>\n",
       "      <td>2014.0</td>\n",
       "      <td>Ville de Montréal, Montréal en statistiques, h...</td>\n",
       "      <td>6.8</td>\n",
       "      <td>500.0</td>\n",
       "      <td>17.0</td>\n",
       "      <td>(45.5086699, -73.5539925)</td>\n",
       "      <td>(56.130366, -106.346771)</td>\n",
       "    </tr>\n",
       "  </tbody>\n",
       "</table>\n",
       "<p>1 rows × 27 columns</p>\n",
       "</div>"
      ],
      "text/plain": [
       "   ACCOUNT NUMBER          CITY NAME COUNTRY CITY SHORT NAME  C40  \\\n",
       "0           35894  Ville de Montreal  Canada        Montreal  NaN   \n",
       "\n",
       "   REPORTING YEAR        MEASUREMENT YEAR  \\\n",
       "0            2016  12/31/2009 12:00:00 AM   \n",
       "\n",
       "                                            BOUNDARY  \\\n",
       "0  Other: The regional entity that constitutes th...   \n",
       "\n",
       "                                 PRIMARY METHODOLOGY  \\\n",
       "0  2006 IPCC Guidelines for National Greenhouse G...   \n",
       "\n",
       "                                 METHODOLOGY DETAILS  ... CURRENT POPULATION  \\\n",
       "0  2006 IPCC Guidelines for National Greenhouse G...  ...          1886481.0   \n",
       "\n",
       "       CITY GDP             GDP CURRENCY  YEAR OF GDP  \\\n",
       "0  1.201180e+11  CAD     Canadian Dollar       2014.0   \n",
       "\n",
       "                                          GDP SOURCE  \\\n",
       "0  Ville de Montréal, Montréal en statistiques, h...   \n",
       "\n",
       "  AVERAGE ANNUAL TEMPERATURE (IN CELSIUS)​  ​LAND AREA (IN SQUARE KM)  \\\n",
       "0                                      6.8                      500.0   \n",
       "\n",
       "   AVERAGE ALTITUDE (M)              CITY LOCATION          COUNTRY LOCATION  \n",
       "0                  17.0  (45.5086699, -73.5539925)  (56.130366, -106.346771)  \n",
       "\n",
       "[1 rows x 27 columns]"
      ]
     },
     "execution_count": 16,
     "metadata": {},
     "output_type": "execute_result"
    }
   ],
   "source": [
    "df = pd.read_csv(\"../DB/Data/2016_-_Citywide_GHG_Emissions_20240207.csv\")\n",
    "df.columns = df.columns.str.upper()\n",
    "df[:1]"
   ]
  },
  {
   "cell_type": "code",
   "execution_count": 13,
   "id": "b9c65a00-a2f2-441b-b641-1bbb0fb53c0e",
   "metadata": {},
   "outputs": [
    {
     "name": "stdout",
     "output_type": "stream",
     "text": [
      "['Account Number', 'Average altitude (m)', 'Average annual temperature (in Celsius)\\u200b', 'Boundary', 'C40', 'City GDP', 'City Location', 'City Name', 'City Short Name', 'Country', 'Country Location', 'Current Population', 'Current Population Year', 'GDP Currency', 'GDP Source', 'Gases included', 'Increase/Decrease from last year', 'Measurement Year', 'Methodology Details', 'Primary Methodology', 'Reason for increase/decrease in emissions', 'Reporting Year', 'Total City-wide Emissions (metric tonnes CO2e)', 'Total Scope 1 Emissions (metric tonnes CO2e)', 'Total Scope 2 Emissions (metric tonnes CO2e)', 'Year of GDP', '\\u200bLand area (in square km)']\n"
     ]
    }
   ],
   "source": [
    "print(sorted(list(df.columns)))"
   ]
  },
  {
   "cell_type": "code",
   "execution_count": null,
   "id": "6fc181d5-8314-4591-a946-16415039a812",
   "metadata": {},
   "outputs": [],
   "source": [
    "df = df[[\"City\",\"\"]]"
   ]
  },
  {
   "cell_type": "markdown",
   "id": "1b4038e2-fde4-4026-981d-addb890e54d0",
   "metadata": {},
   "source": [
    "# 2017"
   ]
  },
  {
   "cell_type": "code",
   "execution_count": 17,
   "id": "3cbf7b4e-1e80-452a-ae95-9373a89fefa5",
   "metadata": {},
   "outputs": [
    {
     "data": {
      "text/html": [
       "<div>\n",
       "<style scoped>\n",
       "    .dataframe tbody tr th:only-of-type {\n",
       "        vertical-align: middle;\n",
       "    }\n",
       "\n",
       "    .dataframe tbody tr th {\n",
       "        vertical-align: top;\n",
       "    }\n",
       "\n",
       "    .dataframe thead th {\n",
       "        text-align: right;\n",
       "    }\n",
       "</style>\n",
       "<table border=\"1\" class=\"dataframe\">\n",
       "  <thead>\n",
       "    <tr style=\"text-align: right;\">\n",
       "      <th></th>\n",
       "      <th>ACCOUNT NUMBER</th>\n",
       "      <th>ORGANIZATION</th>\n",
       "      <th>CITY</th>\n",
       "      <th>COUNTRY</th>\n",
       "      <th>REGION</th>\n",
       "      <th>C40</th>\n",
       "      <th>ACCESS</th>\n",
       "      <th>REPORTING YEAR</th>\n",
       "      <th>ACCOUNTING YEAR</th>\n",
       "      <th>BOUNDARY</th>\n",
       "      <th>...</th>\n",
       "      <th>POPULATION YEAR</th>\n",
       "      <th>GDP</th>\n",
       "      <th>GDP CURRENCY</th>\n",
       "      <th>GDP YEAR</th>\n",
       "      <th>GDP SOURCE</th>\n",
       "      <th>AVERAGE ANNUAL TEMPERATURE (IN CELSIUS)​</th>\n",
       "      <th>​AVERAGE ALTITUDE (M)</th>\n",
       "      <th>​LAND AREA (IN SQUARE KM)</th>\n",
       "      <th>CITY LOCATION</th>\n",
       "      <th>COUNTRY LOCATION</th>\n",
       "    </tr>\n",
       "  </thead>\n",
       "  <tbody>\n",
       "    <tr>\n",
       "      <th>0</th>\n",
       "      <td>49363</td>\n",
       "      <td>Nelson Mandela Bay Municipality</td>\n",
       "      <td>Nelson Mandela Bay</td>\n",
       "      <td>South Africa</td>\n",
       "      <td>Africa</td>\n",
       "      <td>NaN</td>\n",
       "      <td>Public</td>\n",
       "      <td>2017</td>\n",
       "      <td>2013-07-01 - 2014-06-30</td>\n",
       "      <td>A metropolitan area</td>\n",
       "      <td>...</td>\n",
       "      <td>2011</td>\n",
       "      <td>52147.0</td>\n",
       "      <td>ZAR     South African Rand</td>\n",
       "      <td>2010.0</td>\n",
       "      <td>Built Environment Performance Plan(BEPP)</td>\n",
       "      <td>17.5</td>\n",
       "      <td>69.0</td>\n",
       "      <td>1950.0</td>\n",
       "      <td>(-33.745241, 25.568108)</td>\n",
       "      <td>(-30.559482, 22.937506)</td>\n",
       "    </tr>\n",
       "  </tbody>\n",
       "</table>\n",
       "<p>1 rows × 31 columns</p>\n",
       "</div>"
      ],
      "text/plain": [
       "   ACCOUNT NUMBER                     ORGANIZATION                 CITY  \\\n",
       "0           49363  Nelson Mandela Bay Municipality  Nelson Mandela Bay    \n",
       "\n",
       "        COUNTRY  REGION  C40  ACCESS  REPORTING YEAR          ACCOUNTING YEAR  \\\n",
       "0  South Africa  Africa  NaN  Public            2017  2013-07-01 - 2014-06-30   \n",
       "\n",
       "              BOUNDARY  ... POPULATION YEAR      GDP  \\\n",
       "0  A metropolitan area  ...            2011  52147.0   \n",
       "\n",
       "                 GDP CURRENCY  GDP YEAR  \\\n",
       "0  ZAR     South African Rand    2010.0   \n",
       "\n",
       "                                 GDP SOURCE  \\\n",
       "0  Built Environment Performance Plan(BEPP)   \n",
       "\n",
       "   AVERAGE ANNUAL TEMPERATURE (IN CELSIUS)​  ​AVERAGE ALTITUDE (M)  \\\n",
       "0                                      17.5                   69.0   \n",
       "\n",
       "  ​LAND AREA (IN SQUARE KM)            CITY LOCATION         COUNTRY LOCATION  \n",
       "0                    1950.0  (-33.745241, 25.568108)  (-30.559482, 22.937506)  \n",
       "\n",
       "[1 rows x 31 columns]"
      ]
     },
     "execution_count": 17,
     "metadata": {},
     "output_type": "execute_result"
    }
   ],
   "source": [
    "df2 = pd.read_csv(\"../DB/Data/2017_-_Cities_Community_Wide_Emissions.csv\")\n",
    "df2.columns = df2.columns.str.upper()\n",
    "df2[:1]"
   ]
  },
  {
   "cell_type": "code",
   "execution_count": 12,
   "id": "4c5b3192-dc2a-4c8d-9303-56d78293fe7c",
   "metadata": {},
   "outputs": [
    {
     "name": "stdout",
     "output_type": "stream",
     "text": [
      "['Access', 'Account number', 'Accounting year', 'Average annual temperature (in Celsius)\\u200b', 'Boundary', 'C40', 'City', 'City Location', 'Comment', 'Country', 'Country Location', 'GDP', 'GDP Currency', 'GDP Source', 'GDP Year', 'Gases included', 'Increase/Decrease from last year', 'Organization', 'Population', 'Population year', 'Protocol', 'Protocol column', 'Reason for increase/decrease in emissions', 'Region', 'Reporting year', 'Scopes Included ', 'Total Scope 1 Emissions (metric tonnes CO2e)', 'Total Scope 2 Emissions (metric tonnes CO2e)', 'Total emissions (metric tonnes CO2e)', '\\u200bAverage altitude (m)', '\\u200bLand area (in square km)']\n"
     ]
    }
   ],
   "source": [
    "print(sorted(list(df2.columns)))"
   ]
  },
  {
   "cell_type": "code",
   "execution_count": 18,
   "id": "a779e2c7-1966-4bd9-9c01-8b88f6f2cd7b",
   "metadata": {},
   "outputs": [
    {
     "name": "stdout",
     "output_type": "stream",
     "text": [
      "['ACCESS', 'ACCOUNTING YEAR', 'AVERAGE ALTITUDE (M)', 'CITY', 'CITY GDP', 'CITY NAME', 'CITY SHORT NAME', 'COMMENT', 'CURRENT POPULATION', 'CURRENT POPULATION YEAR', 'GDP', 'GDP YEAR', 'MEASUREMENT YEAR', 'METHODOLOGY DETAILS', 'ORGANIZATION', 'POPULATION', 'POPULATION YEAR', 'PRIMARY METHODOLOGY', 'PROTOCOL', 'PROTOCOL COLUMN', 'REGION', 'SCOPES INCLUDED ', 'TOTAL CITY-WIDE EMISSIONS (METRIC TONNES CO2E)', 'TOTAL EMISSIONS (METRIC TONNES CO2E)', 'YEAR OF GDP', '\\u200bAVERAGE ALTITUDE (M)']\n"
     ]
    }
   ],
   "source": [
    "list1 = list(df.columns)\n",
    "list2 = list(df2.columns)\n",
    "difference = sorted([item for item in list1 if item not in list2] + [item for item in list2 if item not in list1])\n",
    "\n",
    "print(difference)"
   ]
  },
  {
   "cell_type": "code",
   "execution_count": null,
   "id": "42d8d53d-404e-4c36-ab6c-3fe5e7d4647f",
   "metadata": {},
   "outputs": [],
   "source": []
  }
 ],
 "metadata": {
  "kernelspec": {
   "display_name": "Python 3",
   "language": "python",
   "name": "python3"
  },
  "language_info": {
   "codemirror_mode": {
    "name": "ipython",
    "version": 3
   },
   "file_extension": ".py",
   "mimetype": "text/x-python",
   "name": "python",
   "nbconvert_exporter": "python",
   "pygments_lexer": "ipython3",
   "version": "3.8.10"
  }
 },
 "nbformat": 4,
 "nbformat_minor": 5
}
