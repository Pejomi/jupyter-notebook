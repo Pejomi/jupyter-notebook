{
 "cells": [
  {
   "cell_type": "markdown",
   "id": "5add67a1-6955-43ac-a412-52e48148a587",
   "metadata": {},
   "source": [
    "# Random practice stuff"
   ]
  },
  {
   "cell_type": "code",
   "execution_count": null,
   "id": "603e3b61-e66f-4876-a992-a8d01abc751d",
   "metadata": {},
   "outputs": [],
   "source": [
    "import matplotlib.pyplot as plt"
   ]
  },
  {
   "cell_type": "code",
   "execution_count": 6,
   "id": "36c8d19e-f310-434b-8e14-59b2c9f71e3b",
   "metadata": {},
   "outputs": [
    {
     "name": "stdout",
     "output_type": "stream",
     "text": [
      "Jupyter is awesome!\n"
     ]
    }
   ],
   "source": [
    "phrase = \"Jupyter is awesome!\"\n",
    "print(phrase)"
   ]
  },
  {
   "cell_type": "code",
   "execution_count": 8,
   "id": "32fef5b4-101c-45df-a25a-206c4f6026cb",
   "metadata": {},
   "outputs": [
    {
     "data": {
      "text/plain": [
       "'Jupyter is awesome!'"
      ]
     },
     "execution_count": 8,
     "metadata": {},
     "output_type": "execute_result"
    }
   ],
   "source": [
    "phrase"
   ]
  },
  {
   "cell_type": "code",
   "execution_count": 7,
   "id": "85829615-fc1c-4178-a510-f9d59ce03755",
   "metadata": {},
   "outputs": [
    {
     "data": {
      "image/png": "[encoded data removed]",
      "text/plain": [
       "<Figure size 432x288 with 1 Axes>"
      ]
     },
     "metadata": {
      "needs_background": "light"
     },
     "output_type": "display_data"
    }
   ],
   "source": [
    "words = phrase.split(\" \")\n",
    "\n",
    "word_length = [len(w) for w in words]\n",
    "plt.bar(words, word_length)\n",
    "plt.show()"
   ]
  },
  {
   "cell_type": "code",
   "execution_count": null,
   "id": "67d11f83-b74f-4ae3-8b48-c0624d9f56b6",
   "metadata": {},
   "outputs": [],
   "source": []
  }
 ],
 "metadata": {
  "kernelspec": {
   "display_name": "Python 3",
   "language": "python",
   "name": "python3"
  },
  "language_info": {
   "codemirror_mode": {
    "name": "ipython",
    "version": 3
   },
   "file_extension": ".py",
   "mimetype": "text/x-python",
   "name": "python",
   "nbconvert_exporter": "python",
   "pygments_lexer": "ipython3",
   "version": "3.8.10"
  }
 },
 "nbformat": 4,
 "nbformat_minor": 5
}
