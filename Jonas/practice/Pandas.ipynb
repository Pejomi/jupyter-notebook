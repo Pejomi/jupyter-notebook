{
 "cells": [
  {
   "cell_type": "markdown",
   "id": "1155067b-02bd-4fc6-b726-bd223108fef8",
   "metadata": {},
   "source": [
    "# Pandas\n",
    "\n",
    "Refreshing my panda skills"
   ]
  },
  {
   "cell_type": "code",
   "execution_count": null,
   "id": "119f5592-e51a-4dff-8c28-e07b4e9df458",
   "metadata": {},
   "outputs": [],
   "source": []
  }
 ],
 "metadata": {
  "kernelspec": {
   "display_name": "Python 3",
   "language": "python",
   "name": "python3"
  },
  "language_info": {
   "codemirror_mode": {
    "name": "ipython",
    "version": 3
   },
   "file_extension": ".py",
   "mimetype": "text/x-python",
   "name": "python",
   "nbconvert_exporter": "python",
   "pygments_lexer": "ipython3",
   "version": "3.8.10"
  }
 },
 "nbformat": 4,
 "nbformat_minor": 5
}
