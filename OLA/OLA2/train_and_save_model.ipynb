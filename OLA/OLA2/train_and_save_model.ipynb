{
 "cells": [
  {
   "cell_type": "code",
   "execution_count": 17,
   "id": "83145349-bc23-415b-804e-8e492db00556",
   "metadata": {},
   "outputs": [],
   "source": [
    "import pandas as pd\n",
    "import numpy as np\n",
    "from sklearn.model_selection import train_test_split\n",
    "from sklearn.ensemble import RandomForestClassifier\n",
    "from sklearn.metrics import accuracy_score\n",
    "from joblib import dump\n",
    "from sklearn.metrics import f1_score"
   ]
  },
  {
   "cell_type": "code",
   "execution_count": 15,
   "id": "85f9a256-9c64-47ee-98a1-2c1b1a844e61",
   "metadata": {},
   "outputs": [],
   "source": [
    "data = pd.read_csv('../Data/traffic_data/encoded_data.csv')\n",
    "\n",
    "X = data.drop('Accident_Severity', axis=1)\n",
    "y = data['Accident_Severity']\n",
    "\n",
    "X_train, X_test, y_train, y_test = train_test_split(X, y, test_size=0.2, random_state=42)\n",
    "\n",
    "def train_save_random_forest():\n",
    "    # Train a random forest classifier\n",
    "    clf = RandomForestClassifier(n_estimators=50, random_state=42)\n",
    "    clf.fit(X_train, y_train)\n",
    "\n",
    "    # Make predictions\n",
    "    y_pred = clf.predict(X_test)\n",
    "\n",
    "    # Evaluate the model\n",
    "    accuracy = accuracy_score(y_test, y_pred)\n",
    "    f1 = f1_score(y_test, y_pred, average='weighted')\n",
    "    print(f'Random Forest Accuracy: {accuracy:.2f}')\n",
    "    print(f'Random Forest F1: {f1:.2f}')\n",
    "\n",
    "    dump(clf, 'rf_model.joblib')\n",
    "    print(f'Random Forest model saved')"
   ]
  },
  {
   "cell_type": "code",
   "execution_count": 16,
   "id": "b5cbc484-3f33-4df5-9f60-e3ab738f84bf",
   "metadata": {},
   "outputs": [
    {
     "name": "stdout",
     "output_type": "stream",
     "text": [
      "Random Forest Accuracy: 0.84\n",
      "Random Forest F1: 0.80\n",
      "Random Forest model saved\n"
     ]
    }
   ],
   "source": [
    "train_save_random_forest()"
   ]
  },
  {
   "cell_type": "code",
   "execution_count": null,
   "id": "69b7f97e-7a55-49e3-ba19-78efcb228060",
   "metadata": {},
   "outputs": [],
   "source": []
  }
 ],
 "metadata": {
  "kernelspec": {
   "display_name": "Python 3 (ipykernel)",
   "language": "python",
   "name": "python3"
  },
  "language_info": {
   "codemirror_mode": {
    "name": "ipython",
    "version": 3
   },
   "file_extension": ".py",
   "mimetype": "text/x-python",
   "name": "python",
   "nbconvert_exporter": "python",
   "pygments_lexer": "ipython3",
   "version": "3.12.1"
  }
 },
 "nbformat": 4,
 "nbformat_minor": 5
}
