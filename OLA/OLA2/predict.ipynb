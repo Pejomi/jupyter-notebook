{
 "cells": [
  {
   "cell_type": "code",
   "execution_count": 1,
   "id": "8edaba39-717d-45d3-84b8-bab0e3af839c",
   "metadata": {},
   "outputs": [],
   "source": [
    "import pandas as pd\n",
    "import numpy as np\n",
    "from joblib import load"
   ]
  },
  {
   "cell_type": "code",
   "execution_count": 2,
   "id": "5d704f3b-a000-4c7c-9c94-9a17d8c83d46",
   "metadata": {},
   "outputs": [
    {
     "name": "stdout",
     "output_type": "stream",
     "text": [
      "Overwriting predict.py\n"
     ]
    }
   ],
   "source": [
    "%%writefile predict.py\n",
    "import pandas as pd\n",
    "import numpy as np\n",
    "from joblib import load\n",
    "import argparse\n",
    "\n",
    "def predict(input_csv):\n",
    "    input_data = pd.read_csv(input_csv)\n",
    "    \n",
    "    model_loaded = load('rf_model.joblib')\n",
    "    prediction = model_loaded.predict(input_data)\n",
    "    \n",
    "    return prediction\n",
    "\n",
    "if __name__ == \"__main__\":\n",
    "    parser = argparse.ArgumentParser(description=\"Execute predict from the command line.\")\n",
    "    parser.add_argument('param1', type=str, help='Input data in csv format')\n",
    "    args = parser.parse_args()\n",
    "    \n",
    "    print(predict(args.param1))"
   ]
  },
  {
   "cell_type": "markdown",
   "id": "0e14d476-dcd8-42e6-9336-f3b41ee1316e",
   "metadata": {},
   "source": [
    "# Usage\n",
    "Following these steps will predict using the sample prediction data\n",
    "\n",
    "### Step 1: \n",
    "Navigate to the folder containing the 'predict.py' file\n",
    "### Step 2: \n",
    "Open a terminal and run the following command \"python predict.py '../Data/traffic_data/prediction_data.csv'\""
   ]
  }
 ],
 "metadata": {
  "kernelspec": {
   "display_name": "Python 3 (ipykernel)",
   "language": "python",
   "name": "python3"
  },
  "language_info": {
   "codemirror_mode": {
    "name": "ipython",
    "version": 3
   },
   "file_extension": ".py",
   "mimetype": "text/x-python",
   "name": "python",
   "nbconvert_exporter": "python",
   "pygments_lexer": "ipython3",
   "version": "3.12.1"
  }
 },
 "nbformat": 4,
 "nbformat_minor": 5
}
